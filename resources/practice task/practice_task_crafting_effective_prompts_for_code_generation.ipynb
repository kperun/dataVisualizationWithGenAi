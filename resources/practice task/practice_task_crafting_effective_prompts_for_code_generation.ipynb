{
 "cells": [
  {
   "cell_type": "markdown",
   "metadata": {
    "id": "WMMbeE_NPQ__"
   },
   "source": [
    "# Welcome to the practice task\n",
    "\n",
    "**Crafting Effective Prompts**\n",
    "\n",
    "In this exercise, you will practice crafting creative and effective prompts for AI models with the aim of python code generation.\n",
    "\n",
    "*Don't forget to upload your .env file in the file section.*"
   ]
  },
  {
   "cell_type": "markdown",
   "metadata": {
    "id": "p67GzR06Pcd_"
   },
   "source": [
    "Install the needed module."
   ]
  },
  {
   "cell_type": "code",
   "execution_count": null,
   "metadata": {
    "colab": {
     "base_uri": "https://localhost:8080/"
    },
    "id": "D0W1QvwJPHLL",
    "outputId": "90c84d56-cbd5-452c-854f-03568c30747e"
   },
   "outputs": [],
   "source": [
    "!pip install openai==0.28 python-dotenv"
   ]
  },
  {
   "cell_type": "markdown",
   "metadata": {
    "id": "sdcRDfgUPrGz"
   },
   "source": [
    "Importing the modules"
   ]
  },
  {
   "cell_type": "code",
   "execution_count": null,
   "metadata": {
    "id": "gQTjjMa6PsQu"
   },
   "outputs": [],
   "source": [
    "import os\n",
    "import openai\n",
    "from dotenv import load_dotenv\n",
    "from google.colab import files\n",
    "import re"
   ]
  },
  {
   "cell_type": "markdown",
   "metadata": {
    "id": "DaoJrHOPPiMu"
   },
   "source": [
    "### Configure the OpenAI API"
   ]
  },
  {
   "cell_type": "code",
   "execution_count": null,
   "metadata": {
    "colab": {
     "base_uri": "https://localhost:8080/",
     "height": 39
    },
    "id": "Yzi9dz7DPmp7",
    "outputId": "1aa5a0bc-17d9-4f27-dfbb-5510d96f6ba6"
   },
   "outputs": [],
   "source": [
    "# upload your .env file\n",
    "env_file = files.upload()\n",
    "# loading the environment variables\n",
    "load_dotenv(dotenv_path='apikey.env.txt')\n",
    "# get your API key\n",
    "APIKEY = os.getenv(\"APIKEY\")\n",
    "# use organization ID if needed\n",
    "# ORGID = os.getenv(\"ORGID\")\n",
    "\n",
    "# configure the api\n",
    "openai.api_key = APIKEY\n",
    "# openai.organization = ORGID"
   ]
  },
  {
   "cell_type": "markdown",
   "metadata": {
    "id": "j245rLqYQ6O8"
   },
   "source": [
    "### Prompting for code generation"
   ]
  },
  {
   "cell_type": "markdown",
   "metadata": {
    "id": "HyMC9bitff5P"
   },
   "source": [
    "Here is a helper function for you."
   ]
  },
  {
   "cell_type": "code",
   "execution_count": null,
   "metadata": {
    "id": "xJhzzU1cfly8"
   },
   "outputs": [],
   "source": [
    "def extract_code(response_content):\n",
    "    # Define a regular expression pattern to match text between triple backticks (```)\n",
    "    pattern = r'```(.*?)```'\n",
    "\n",
    "    # Use re.findall to find all non-overlapping matches of the pattern in the input string\n",
    "    matches = re.findall(pattern, response_content, re.DOTALL)\n",
    "\n",
    "    # Remove the python keyword from in the code and Return the first match found\n",
    "    return matches[0].replace(\"python\", \"\")"
   ]
  },
  {
   "cell_type": "markdown",
   "metadata": {
    "id": "2NeSFlPzfpH7"
   },
   "source": [
    "Start with a simple `user-only` prompt:\n",
    "* User: \"Return a Python function that calculates the factorial of a given value 'n'.\"\n",
    "\n",
    "Write a python code and craft your prompt and send it to the AI model and receive a response. Exract the code from the response content and print it."
   ]
  },
  {
   "cell_type": "code",
   "execution_count": null,
   "metadata": {
    "colab": {
     "base_uri": "https://localhost:8080/"
    },
    "id": "AnPA7fJQPzoT",
    "outputId": "f789aac0-9d9c-4fcc-9424-5ef7229ef050"
   },
   "outputs": [],
   "source": [
    "# write your code here"
   ]
  },
  {
   "cell_type": "markdown",
   "metadata": {
    "id": "cQCHVSzKRFMr"
   },
   "source": [
    "Add a system role to provide context or instructions that guide the AI's response:\n",
    "\n",
    "* User: \"Return a Python function that calculates the factorial of a given value 'n'.\"\n",
    "* System: \"You are a python code generator that only returns functions in object oriented style.\"\n",
    "\n",
    "Write a python code to craft your prompt and send it to the AI model and receive a response"
   ]
  },
  {
   "cell_type": "code",
   "execution_count": null,
   "metadata": {
    "colab": {
     "base_uri": "https://localhost:8080/"
    },
    "id": "5b_QNbXFRN71",
    "outputId": "533aeb84-19f8-4e44-929f-05e39557ae17"
   },
   "outputs": [],
   "source": [
    "# write your code here"
   ]
  },
  {
   "cell_type": "markdown",
   "metadata": {
    "id": "ghooAXYDWPZI"
   },
   "source": [
    " -----\n",
    "🤔 Think about the differences in the AI responses between the `user-only` and `user-system` prompts."
   ]
  }
 ],
 "metadata": {
  "colab": {
   "provenance": []
  },
  "kernelspec": {
   "display_name": "Python 3 (ipykernel)",
   "language": "python",
   "name": "python3"
  },
  "language_info": {
   "codemirror_mode": {
    "name": "ipython",
    "version": 3
   },
   "file_extension": ".py",
   "mimetype": "text/x-python",
   "name": "python",
   "nbconvert_exporter": "python",
   "pygments_lexer": "ipython3",
   "version": "3.12.0"
  }
 },
 "nbformat": 4,
 "nbformat_minor": 4
}
