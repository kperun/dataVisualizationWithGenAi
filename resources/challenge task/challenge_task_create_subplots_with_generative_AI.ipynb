{
 "cells": [
  {
   "cell_type": "markdown",
   "metadata": {
    "id": "IHNXtvQUYr5e"
   },
   "source": [
    "# Welcome to the challenge\n",
    "\n",
    "Toy Trikz has supplied us with a dataset that includes the daily sales figures for various product categories. They have requested us to employ Generative AI to generate a chart with five subplots, each displaying a line chart illustrating the quantity of items sold for each product category. A reference image of the desired chart can be found in the 'subplot.jpg' file located in the challenge task directory.\n",
    "\n",
    "Follow the instructions in this notebook to complete the challenge.\n",
    "\n",
    "Good Luck!🍀"
   ]
  },
  {
   "cell_type": "markdown",
   "metadata": {
    "id": "2v77mkIltpo4"
   },
   "source": [
    "Install the needed modules\n"
   ]
  },
  {
   "cell_type": "code",
   "execution_count": null,
   "metadata": {
    "colab": {
     "base_uri": "https://localhost:8080/"
    },
    "id": "9CvvKE7fkHP8",
    "outputId": "288a7777-2d19-4a29-9c78-0b376019d303"
   },
   "outputs": [],
   "source": [
    "!pip install openai==0.28 python-dotenv"
   ]
  },
  {
   "cell_type": "markdown",
   "metadata": {
    "id": "8zrRCdwStiQ4"
   },
   "source": [
    "Importing the needed modules and setting up the API"
   ]
  },
  {
   "cell_type": "code",
   "execution_count": null,
   "metadata": {
    "colab": {
     "base_uri": "https://localhost:8080/",
     "height": 39
    },
    "id": "NfNtkgw7Ypnc",
    "outputId": "03ab895c-2d10-4083-9222-fd218682c5d9"
   },
   "outputs": [],
   "source": [
    "import os\n",
    "import openai\n",
    "from dotenv import load_dotenv\n",
    "import pandas as pd\n",
    "from google.colab import files\n",
    "import re\n",
    "import numpy as np\n",
    "\n",
    "# upload your .env file\n",
    "env_file = files.upload()\n",
    "# loading the environment variables\n",
    "load_dotenv(dotenv_path='apikey.env.txt')\n",
    "# get your API key\n",
    "APIKEY = os.getenv(\"APIKEY\")\n",
    "# use organization ID if needed\n",
    "ORGID = os.getenv(\"ORGID\")\n",
    "\n",
    "# configure the api\n",
    "openai.api_key = APIKEY\n",
    "# openai.organization = ORGID"
   ]
  },
  {
   "cell_type": "markdown",
   "metadata": {
    "id": "vq1dEFNrSyF8"
   },
   "source": [
    "Here are some helper functions for python code generation.\n",
    "\n",
    "`Don't forget to run the block!`"
   ]
  },
  {
   "cell_type": "code",
   "execution_count": null,
   "metadata": {
    "id": "fjIJVRmjStuz"
   },
   "outputs": [],
   "source": [
    "def generate_chat_response(system_content, user_content):\n",
    "    # Create two message dictionaries, one for the system and one for the user.\n",
    "    system = {'role': 'system', 'content': system_content}\n",
    "    user = {'role': 'user', 'content': user_content}\n",
    "\n",
    "    # Use OpenAI's ChatCompletion API to generate a response.\n",
    "    response = openai.ChatCompletion.create(\n",
    "        model='gpt-4',\n",
    "        messages=[system, user],  # List of messages (system and user)\n",
    "        max_tokens=1200  # Set a limit on the number of tokens in the response\n",
    "    )\n",
    "\n",
    "    # Return the generated response.\n",
    "    return response\n",
    "\n",
    "\n",
    "def extract_code(response_content):\n",
    "    # Define a regular expression pattern to match text between triple backticks (```)\n",
    "    pattern = r'```(.*?)```'\n",
    "\n",
    "    # Use re.findall to find all non-overlapping matches of the pattern in the input string\n",
    "    matches = re.findall(pattern, response_content, re.DOTALL)\n",
    "\n",
    "    # Remove the python keyword from in the code and Return the first match found\n",
    "    return matches[0].replace(\"python\", \"\")\n",
    "\n",
    "\n",
    "def generate_code_and_execute(user_content, execute=True):\n",
    "    # Defining system content for code generation\n",
    "    system_content = \"\"\"\n",
    "    You are a python code generator. You know pandas and plotly express modules. You answer to every question with Python code.\n",
    "    You return python code wrapped in ``` delimiter. Import any neede python module. And you don't provide any elaborations.\n",
    "    \"\"\"\n",
    "\n",
    "    # generate chat response\n",
    "    response = generate_chat_response(system_content, user_content)\n",
    "\n",
    "    # extract resonse content\n",
    "    response_content = response.choices[0].message.content\n",
    "\n",
    "    # let's extract the code from the response content\n",
    "    code = extract_code(response_content)\n",
    "\n",
    "    if execute:\n",
    "        exec(code, globals())  # Execute the generated Python code if execute is set to True\n",
    "\n",
    "    return code\n",
    "\n",
    "def update_code(code, user_content, execute = True):\n",
    "    # Defining system content for code update\n",
    "    system_content = f\"\"\"\n",
    "    You are a python code generator. You know pandas. You are given the following python method: {code}. Update the code based on the user content. Do not change the method name.\n",
    "    You return the updated python code wrapped in ``` delimiter. And you don't provide any elaborations.\n",
    "    \"\"\"\n",
    "    # generate chat response\n",
    "    response_content = generate_chat_response(system_content, user_content).choices[0].message.content\n",
    "\n",
    "    # extracting the code\n",
    "    new_code = extract_code(response_content)\n",
    "\n",
    "    if execute:\n",
    "        exec(new_code, globals())  # Execute the generated Python code if execute is set to True\n",
    "\n",
    "    return new_code"
   ]
  },
  {
   "cell_type": "markdown",
   "metadata": {
    "id": "JfPXgnjuwXCk"
   },
   "source": [
    "Importing the dataset"
   ]
  },
  {
   "cell_type": "code",
   "execution_count": null,
   "metadata": {
    "colab": {
     "base_uri": "https://localhost:8080/",
     "height": 206
    },
    "id": "bJ1btJSeTBoc",
    "outputId": "0fb33da6-a342-46e9-fbff-4a53fcf1abf3"
   },
   "outputs": [],
   "source": [
    "data = pd.read_csv(\"challenge_dataset.csv\")\n",
    "data.head()"
   ]
  },
  {
   "cell_type": "markdown",
   "metadata": {
    "id": "PFi7K7eEWaEz"
   },
   "source": [
    "Use the above methods to create the chart shown in 'subplots.jpg' file in the challenge folder."
   ]
  },
  {
   "cell_type": "code",
   "execution_count": null,
   "metadata": {
    "colab": {
     "base_uri": "https://localhost:8080/",
     "height": 1000
    },
    "id": "luXoR2HDVSMz",
    "outputId": "9c7ae81c-59cc-43e3-c98d-27cc3cde792b"
   },
   "outputs": [],
   "source": [
    "# write your code here"
   ]
  },
  {
   "cell_type": "code",
   "execution_count": null,
   "metadata": {
    "colab": {
     "base_uri": "https://localhost:8080/",
     "height": 1000
    },
    "id": "QF_6LlHKb-Vx",
    "outputId": "7d11db16-d078-4d93-9ae2-6463e82df593"
   },
   "outputs": [],
   "source": [
    "# Update the chart if needed using the update_code method"
   ]
  }
 ],
 "metadata": {
  "colab": {
   "provenance": []
  },
  "kernelspec": {
   "display_name": "Python 3 (ipykernel)",
   "language": "python",
   "name": "python3"
  },
  "language_info": {
   "codemirror_mode": {
    "name": "ipython",
    "version": 3
   },
   "file_extension": ".py",
   "mimetype": "text/x-python",
   "name": "python",
   "nbconvert_exporter": "python",
   "pygments_lexer": "ipython3",
   "version": "3.12.0"
  }
 },
 "nbformat": 4,
 "nbformat_minor": 4
}
